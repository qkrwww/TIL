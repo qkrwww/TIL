{
 "cells": [
  {
   "cell_type": "markdown",
   "id": "8c3b8d5a",
   "metadata": {},
   "source": [
    "# Python 01. 기초문법과 변수 데이터 타입"
   ]
  },
  {
   "cell_type": "markdown",
   "id": "88d6a927",
   "metadata": {},
   "source": [
    "## 1. Python 예약어\n",
    "python에서 사용할 수 없는 식별자(예약어)를 찾아 작성하시오"
   ]
  },
  {
   "cell_type": "code",
   "execution_count": 5,
   "id": "d494504b",
   "metadata": {},
   "outputs": [
    {
     "name": "stdout",
     "output_type": "stream",
     "text": [
      "['False', 'None', 'True', '__peg_parser__', 'and', 'as', 'assert', 'async', 'await', 'break', 'class', 'continue', 'def', 'del', 'elif', 'else', 'except', 'finally', 'for', 'from', 'global', 'if', 'import', 'in', 'is', 'lambda', 'nonlocal', 'not', 'or', 'pass', 'raise', 'return', 'try', 'while', 'with', 'yield']\n"
     ]
    }
   ],
   "source": [
    "import keyword\n",
    "print(keyword.kwlist)"
   ]
  },
  {
   "cell_type": "markdown",
   "id": "15a15811",
   "metadata": {},
   "source": [
    "## 2. 실수 비교\n",
    "python은 부동소수점 방식을 이용하여 실수(float)를 표현하는 과정에서, 나타내고자 하는\n",
    "값과의 오차가 발생하여 원하는 대로 연산 또는 비교가 되지 않을 때가 있다. \n",
    "이를 참고하여, 아래와 같은 두 실수 값을 올바르게 비교하기 위한 코드를 작성하시오"
   ]
  },
  {
   "cell_type": "code",
   "execution_count": 8,
   "id": "fe1042f4",
   "metadata": {},
   "outputs": [
    {
     "data": {
      "text/plain": [
       "True"
      ]
     },
     "execution_count": 8,
     "metadata": {},
     "output_type": "execute_result"
    }
   ],
   "source": [
    "num1 = 0.1 * 3\n",
    "num2 = 0.3\n",
    "import math\n",
    "math.isclose(num1, num2)"
   ]
  },
  {
   "cell_type": "markdown",
   "id": "9461bed9",
   "metadata": {},
   "source": [
    "## 3. 이스케이프 시퀀스\n",
    "(1) 줄 바꿈, (2) 탭, (3) 백슬래시를 의미하는 이스케이프 시퀀스를 작성하시오."
   ]
  },
  {
   "cell_type": "code",
   "execution_count": 19,
   "id": "4cbc52de",
   "metadata": {},
   "outputs": [
    {
     "data": {
      "text/plain": [
       "'\\\\'"
      ]
     },
     "execution_count": 19,
     "metadata": {},
     "output_type": "execute_result"
    }
   ],
   "source": [
    "'\\n'\n",
    "'\\t'\n",
    "'\\\\'"
   ]
  },
  {
   "cell_type": "code",
   "execution_count": 20,
   "id": "5756a09c",
   "metadata": {},
   "outputs": [
    {
     "name": "stdout",
     "output_type": "stream",
     "text": [
      "줄바꿈입니다\n",
      "줄바꿈입니다\n",
      "탭입니다\t탭입니다\n",
      "\\\n"
     ]
    }
   ],
   "source": [
    "print('줄바꿈입니다\\n줄바꿈입니다')\n",
    "print('탭입니다\\t탭입니다')\n",
    "print('\\\\')"
   ]
  },
  {
   "cell_type": "markdown",
   "id": "87657585",
   "metadata": {},
   "source": [
    "## 4. String Interpolation\n",
    "안녕, 철수야 를 string interpolation을 사용하여 출력하시오"
   ]
  },
  {
   "cell_type": "code",
   "execution_count": 27,
   "id": "42e4a184",
   "metadata": {},
   "outputs": [
    {
     "name": "stdout",
     "output_type": "stream",
     "text": [
      "안녕, 철수야\n"
     ]
    }
   ],
   "source": [
    "# 방법 1 : 문자열 method string format\n",
    "name = \"철수\"\n",
    "print(\"안녕, {}야\".format(name))"
   ]
  },
  {
   "cell_type": "code",
   "execution_count": 28,
   "id": "6dd054e8",
   "metadata": {},
   "outputs": [
    {
     "name": "stdout",
     "output_type": "stream",
     "text": [
      "안녕, 철수야\n"
     ]
    }
   ],
   "source": [
    "# 방법 2 : fstring\n",
    "name = \"철수\"\n",
    "print(f\"안녕, {name}야\")"
   ]
  },
  {
   "cell_type": "markdown",
   "id": "7a3065a0",
   "metadata": {},
   "source": [
    "## 5. 형 변환\n",
    "다음 중, 실행 시 오류가 발생하는 코드를 고르시오."
   ]
  },
  {
   "cell_type": "code",
   "execution_count": 32,
   "id": "a72fc6a5",
   "metadata": {},
   "outputs": [
    {
     "data": {
      "text/plain": [
       "True"
      ]
     },
     "execution_count": 32,
     "metadata": {},
     "output_type": "execute_result"
    }
   ],
   "source": [
    "#str(1) # (1)\n",
    "#int('30') # (2)\n",
    "#int(5) # (3)\n",
    "bool('50') # (4)\n",
    "#int(’3.5’) "
   ]
  },
  {
   "cell_type": "code",
   "execution_count": 35,
   "id": "b95ad295",
   "metadata": {},
   "outputs": [
    {
     "data": {
      "text/plain": [
       "False"
      ]
     },
     "execution_count": 35,
     "metadata": {},
     "output_type": "execute_result"
    }
   ],
   "source": [
    "# boolean 연습\n",
    "bool('')"
   ]
  },
  {
   "cell_type": "code",
   "execution_count": 38,
   "id": "4263e57c",
   "metadata": {},
   "outputs": [
    {
     "data": {
      "text/plain": [
       "True"
      ]
     },
     "execution_count": 38,
     "metadata": {},
     "output_type": "execute_result"
    }
   ],
   "source": [
    "bool(3.14159265358979323846264233832795928841)"
   ]
  },
  {
   "cell_type": "markdown",
   "id": "25f43205",
   "metadata": {},
   "source": [
    "## 6. 네모 출력\n",
    "두 개의 정수 n과 m이 주어졌을 때, 가로의 길이가 n, 세로의 길이가 m인\n",
    "직사각형 형태를 별(*) 문자를 이용하여 출력하시오. 단, 반복문은 사용할 수 없다"
   ]
  },
  {
   "cell_type": "code",
   "execution_count": 58,
   "id": "96e1ca93",
   "metadata": {},
   "outputs": [
    {
     "name": "stdout",
     "output_type": "stream",
     "text": [
      "**********\n",
      "**********\n",
      "**********\n",
      "\n"
     ]
    }
   ],
   "source": [
    "n = 10\n",
    "print(((\"*\" * n) + '\\n') * 3)\n"
   ]
  },
  {
   "cell_type": "code",
   "execution_count": 46,
   "id": "132438d3",
   "metadata": {},
   "outputs": [
    {
     "data": {
      "text/plain": [
       "'철수야 철수야 '"
      ]
     },
     "execution_count": 46,
     "metadata": {},
     "output_type": "execute_result"
    }
   ],
   "source": [
    "\"철수야 \" * 2"
   ]
  },
  {
   "cell_type": "code",
   "execution_count": 44,
   "id": "d75458cb",
   "metadata": {},
   "outputs": [
    {
     "data": {
      "text/plain": [
       "False"
      ]
     },
     "execution_count": 44,
     "metadata": {},
     "output_type": "execute_result"
    }
   ],
   "source": [
    "bool(\" \")"
   ]
  },
  {
   "cell_type": "markdown",
   "id": "c215a569",
   "metadata": {},
   "source": [
    "## 7. 이스케이프 시퀀스 응용\n",
    "print() 함수를 한 번만 사용하여 다음 문장을 출력하시오"
   ]
  },
  {
   "cell_type": "markdown",
   "id": "1da68da1",
   "metadata": {},
   "source": [
    "”파일은 c:\\Windows\\Users\\내문서\\Python에 저장이 되었습니다.”\n",
    "나는 생각했다. ‘cd를 써서 git bash로 들어가 봐야지.’"
   ]
  },
  {
   "cell_type": "code",
   "execution_count": 70,
   "id": "b813f71b",
   "metadata": {},
   "outputs": [
    {
     "name": "stdout",
     "output_type": "stream",
     "text": [
      "\"파일은 c:\\Windows\\Users\\내문서\\Python에 저장이 되었습니다.\"\n",
      " 나는 생각했다.\n",
      " cd를 써서 git bash로 들어가 봐야지\n"
     ]
    }
   ],
   "source": [
    "print('\"파일은 c:\\\\Windows\\\\Users\\\\내문서\\\\Python에 저장이 되었습니다.\"\\n 나는 생각했다.\\n cd를 써서 git bash로 들어가 봐야지')"
   ]
  },
  {
   "cell_type": "markdown",
   "id": "f17c94d2",
   "metadata": {},
   "source": [
    "## 8. 근의 공식\n",
    "다음은 이차 방정식의 근을 찾는 수식이다. 이를 파이썬 코드로 작성하시오.\n",
    "± 는 + , - 로 나눠서 따로 작성하시오\n"
   ]
  },
  {
   "cell_type": "markdown",
   "id": "7c059a14",
   "metadata": {},
   "source": [
    "![대체 텍스트](./images/image1.png)"
   ]
  },
  {
   "attachments": {},
   "cell_type": "markdown",
   "id": "47be3145",
   "metadata": {},
   "source": [
    "<img src=\".\\images\\image1.png\" width='200' height='100'/>"
   ]
  },
  {
   "cell_type": "code",
   "execution_count": null,
   "id": "397b068d",
   "metadata": {},
   "outputs": [],
   "source": [
    "(-b  + (b**2)  - 4*a*c)**(1/2)) / (2*a)\n",
    "(-b  - (b**2)  - 4*a*c)**(1/2)) / (2*a)\n"
   ]
  }
 ],
 "metadata": {
  "kernelspec": {
   "display_name": "Python 3 (ipykernel)",
   "language": "python",
   "name": "python3"
  },
  "language_info": {
   "codemirror_mode": {
    "name": "ipython",
    "version": 3
   },
   "file_extension": ".py",
   "mimetype": "text/x-python",
   "name": "python",
   "nbconvert_exporter": "python",
   "pygments_lexer": "ipython3",
   "version": "3.9.13"
  }
 },
 "nbformat": 4,
 "nbformat_minor": 5
}
