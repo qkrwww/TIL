{
 "cells": [
  {
   "cell_type": "markdown",
   "id": "4dfad7f0",
   "metadata": {},
   "source": [
    "# 01_python_workshop"
   ]
  },
  {
   "cell_type": "markdown",
   "id": "067e03b4",
   "metadata": {},
   "source": [
    "## 1. 문자 print\n",
    "It’s SSAFY 8 을 출력하는 프로그램을 작성하시오. (중간에 작은따옴표가 있다.)"
   ]
  },
  {
   "cell_type": "code",
   "execution_count": 14,
   "id": "7f03cb72",
   "metadata": {},
   "outputs": [
    {
     "name": "stdout",
     "output_type": "stream",
     "text": [
      "It's SSAFY8\n"
     ]
    }
   ],
   "source": [
    "print('It\\'s SSAFY8')"
   ]
  },
  {
   "cell_type": "markdown",
   "id": "3e9481ae",
   "metadata": {},
   "source": [
    "## 2. 숫자 print\n",
    "458345 + 623576 를 계산하여 출력하는 프로그램을 작성하시오."
   ]
  },
  {
   "cell_type": "code",
   "execution_count": 15,
   "id": "4455395e",
   "metadata": {},
   "outputs": [
    {
     "name": "stdout",
     "output_type": "stream",
     "text": [
      "1081921\n"
     ]
    }
   ],
   "source": [
    "print(458345 + 623576)"
   ]
  },
  {
   "cell_type": "markdown",
   "id": "1fa691e8",
   "metadata": {},
   "source": [
    "## 3. 변수를 사용해서 데이터 출력하기\n",
    "두 변수 greeting, month를 사용해서 Hello July 를 출력하는\n",
    "프로그램을 작성하시오<br>\n",
    "greeting = 'Hello'\n",
    "\n",
    "month = 'July'"
   ]
  },
  {
   "cell_type": "code",
   "execution_count": 16,
   "id": "f3245dda",
   "metadata": {},
   "outputs": [
    {
     "name": "stdout",
     "output_type": "stream",
     "text": [
      "Hello July\n"
     ]
    }
   ],
   "source": [
    "greeting = 'Hello'\n",
    "month = 'July'\n",
    "print(greeting, month)"
   ]
  },
  {
   "cell_type": "markdown",
   "id": "7b231bda",
   "metadata": {},
   "source": [
    "## 4. 문자형의 입력과 출력\n",
    "입력 받은 문자를 출력하는 프로그램을 작성하시오.\n",
    "(힌트 : input() 함수를 활용하여 데이터를 입력받을 수 있다."
   ]
  },
  {
   "cell_type": "code",
   "execution_count": 13,
   "id": "b2ebaa64",
   "metadata": {},
   "outputs": [
    {
     "name": "stdout",
     "output_type": "stream",
     "text": [
      "2 * 3의 결과를 입력하세요 : 6\n"
     ]
    },
    {
     "data": {
      "text/plain": [
       "'6'"
      ]
     },
     "execution_count": 13,
     "metadata": {},
     "output_type": "execute_result"
    }
   ],
   "source": [
    "input('2 * 3의 결과를 입력하세요 : ')"
   ]
  },
  {
   "cell_type": "code",
   "execution_count": null,
   "id": "ee22580c",
   "metadata": {},
   "outputs": [],
   "source": [
    "input('문자를 입력하세요: ')"
   ]
  },
  {
   "cell_type": "code",
   "execution_count": null,
   "id": "760ce416",
   "metadata": {},
   "outputs": [],
   "source": []
  }
 ],
 "metadata": {
  "kernelspec": {
   "display_name": "Python 3 (ipykernel)",
   "language": "python",
   "name": "python3"
  },
  "language_info": {
   "codemirror_mode": {
    "name": "ipython",
    "version": 3
   },
   "file_extension": ".py",
   "mimetype": "text/x-python",
   "name": "python",
   "nbconvert_exporter": "python",
   "pygments_lexer": "ipython3",
   "version": "3.9.13"
  }
 },
 "nbformat": 4,
 "nbformat_minor": 5
}
