{
 "cells": [
  {
   "cell_type": "markdown",
   "id": "09848cf7",
   "metadata": {},
   "source": [
    "# Python 04. 함수\n"
   ]
  },
  {
   "cell_type": "markdown",
   "id": "e321b4f6",
   "metadata": {},
   "source": [
    "## 1. 간단한 N의 약수 (SWEA #1933)\n",
    "입력으로 1개의 정수 N이 주어진다. 정수 N의 약수를 오름차순으로 출력하는\n",
    "프로그램을 작성하시오."
   ]
  },
  {
   "cell_type": "markdown",
   "id": "ae4b958f",
   "metadata": {},
   "source": [
    "<img src=\".\\images\\image4.png\" width='400' height='200'/>"
   ]
  },
  {
   "cell_type": "code",
   "execution_count": 1,
   "id": "050aebeb",
   "metadata": {},
   "outputs": [
    {
     "name": "stdout",
     "output_type": "stream",
     "text": [
      "24\n",
      "1 2 3 4 6 8 12 24 "
     ]
    }
   ],
   "source": [
    "N = int(input())\n",
    "\n",
    "for i in range(1, N+1):\n",
    "    if N % i == 0:\n",
    "        print(i, end=' ')"
   ]
  },
  {
   "cell_type": "markdown",
   "id": "a3fa8763",
   "metadata": {},
   "source": [
    "## 2. List의 합 구하기\n",
    "정수로만 이루어진 list를 전달 받아 해당 list의 모든 요소들의 합을 반환하는\n",
    "list_sum 함수를 built-in 함수인 sum() 함수를 사용하지 않고 작성하시오.\n",
    "\n",
    "list_sum([1, 2, 3, 4, 5])  # => 15"
   ]
  },
  {
   "cell_type": "code",
   "execution_count": 2,
   "id": "2b5b8593",
   "metadata": {},
   "outputs": [],
   "source": [
    "def list_sum(numbers):\n",
    "    sum_value = 0\n",
    "    for number in numbers:\n",
    "        sum_value += number\n",
    "    return sum_value"
   ]
  },
  {
   "cell_type": "code",
   "execution_count": 3,
   "id": "bd6e47d4",
   "metadata": {},
   "outputs": [
    {
     "data": {
      "text/plain": [
       "15"
      ]
     },
     "execution_count": 3,
     "metadata": {},
     "output_type": "execute_result"
    }
   ],
   "source": [
    "list_sum([1, 2, 3, 4, 5])"
   ]
  },
  {
   "cell_type": "markdown",
   "id": "b81be01f",
   "metadata": {},
   "source": [
    "## 3. Dictionary로 이루어진 List의 합 구하기\n",
    "Dictionary로 이루어진 list를 전달 받아 모든 dictionary의 'age' key에 해당하는 value\n",
    "들의 합을 반환하는 dict_list_sum 함수를 built-in 함수인 sum() 함수를 사용하지 않고\n",
    "작성하시오\n",
    "\n",
    "dict_list_sum([{'name': 'kim', 'age':12},{'name': 'lee', 'age':41}])   # => 16"
   ]
  },
  {
   "cell_type": "code",
   "execution_count": 4,
   "id": "49d11e06",
   "metadata": {},
   "outputs": [],
   "source": [
    "def dict_list_sum(infos):\n",
    "    age_sum = 0\n",
    "    for info in infos:\n",
    "        age_sum += info['age']\n",
    "    return age_sum"
   ]
  },
  {
   "cell_type": "code",
   "execution_count": 5,
   "id": "6c77528e",
   "metadata": {},
   "outputs": [
    {
     "data": {
      "text/plain": [
       "53"
      ]
     },
     "execution_count": 5,
     "metadata": {},
     "output_type": "execute_result"
    }
   ],
   "source": [
    "dict_list_sum([{'name': 'kim', 'age':12},{'name': 'lee', 'age':41}])"
   ]
  },
  {
   "cell_type": "markdown",
   "id": "a6fcd2ad",
   "metadata": {},
   "source": [
    "## 4. 2차원 List의 전체 합 구하기\n",
    "정수로만 이루어진 2차원 list를 전달 받아 해당 list의 모든 요소들의 합을 반환하는\n",
    "all_list_sum 함수를 built-in 함수인 sum() 함수를 사용하지 않고 작성하시오."
   ]
  },
  {
   "cell_type": "code",
   "execution_count": 10,
   "id": "d0add175",
   "metadata": {},
   "outputs": [],
   "source": [
    "list1 = [[1], [2, 3], [4, 5, 6], [7, 8, 9, 10]]\n",
    "\n",
    "def all_list_sum(num_lists):\n",
    "    lists_sum = 0\n",
    "    for num_list in num_lists:\n",
    "        for num in num_list:\n",
    "            lists_sum = lists_sum + num\n",
    "    return lists_sum"
   ]
  },
  {
   "cell_type": "code",
   "execution_count": 11,
   "id": "33b38273",
   "metadata": {},
   "outputs": [
    {
     "data": {
      "text/plain": [
       "55"
      ]
     },
     "execution_count": 11,
     "metadata": {},
     "output_type": "execute_result"
    }
   ],
   "source": [
    "all_list_sum(list1]) # => 55"
   ]
  },
  {
   "cell_type": "markdown",
   "id": "a8166418",
   "metadata": {},
   "source": [
    "## 5. 숫자의 의미\n",
    "정수로 이루어진 list를 전달 받아, 각 정수에 대응되는 아스키 문자를 이어붙인\n",
    "문자열을 반환하는 get_secret_word 함수를 작성하시오. \n",
    "단, list는 65이상 90이하 그리고 97이상 122이하의 정수로만 구성되어 있다\n",
    "\n",
    "get_secret_word([83, 115, 665, 102, 89])  # => 'SsAfY'"
   ]
  },
  {
   "cell_type": "markdown",
   "id": "95a06653",
   "metadata": {},
   "source": [
    "<img src=\".\\images\\image5.png\" width='400' height='200'/>"
   ]
  },
  {
   "cell_type": "code",
   "execution_count": 12,
   "id": "efe1e96c",
   "metadata": {},
   "outputs": [
    {
     "name": "stdout",
     "output_type": "stream",
     "text": [
      "SsAfY\n"
     ]
    }
   ],
   "source": [
    "def get_secret_word(numbers):\n",
    "    word = ''\n",
    "    for number in numbers:\n",
    "        word += chr(number)\n",
    "    return word\n",
    "\n",
    "print(get_secret_word([83, 115, 65, 102, 89]))"
   ]
  },
  {
   "cell_type": "markdown",
   "id": "fc407c66",
   "metadata": {},
   "source": [
    "## 6. 내 이름은 몇일까?\n",
    "문자열을 전달 받아 해당 문자열의 각 문자에 대응되는 아스키 숫자들의 합을 반환하는\n",
    "get_secret_number 함수를 작성하시오. 단, 문자열은 A ~ Z, a ~ z로만 구성되어 있다."
   ]
  },
  {
   "cell_type": "code",
   "execution_count": 13,
   "id": "ae29da64",
   "metadata": {},
   "outputs": [
    {
     "data": {
      "text/plain": [
       "546"
      ]
     },
     "execution_count": 13,
     "metadata": {},
     "output_type": "execute_result"
    }
   ],
   "source": [
    "def get_secret_number(word):\n",
    "    total = 0\n",
    "\n",
    "    for char in word:\n",
    "        total += ord(char)\n",
    "    return total\n",
    "\n",
    "get_secret_number('happy') # => 546"
   ]
  },
  {
   "cell_type": "markdown",
   "id": "06f05c84",
   "metadata": {},
   "source": [
    "## 7. 강한 이름\n",
    "문자열 2개를 전달 받아 두 문자열의 각 문자에 대응되는 아스키 숫자들의 합을\n",
    "비교하여 더 큰 합을 가진 문자열을 반환하는 get_strong_word 함수를 작성하시오.\n",
    "단, 두 문자열의 아스키 숫자의 합이 같은 경우, 둘 다 반환하세요.\n",
    "\n",
    "get_strong_word(’z’, ’a’) # => ‘z’\n",
    "\n",
    "get_strong_word(’delilah’, ’dixon’) # => ‘delila"
   ]
  },
  {
   "cell_type": "code",
   "execution_count": 14,
   "id": "2327b597",
   "metadata": {},
   "outputs": [
    {
     "name": "stdout",
     "output_type": "stream",
     "text": [
      "delilah\n"
     ]
    }
   ],
   "source": [
    "def get_strong_word(word1, word2):\n",
    "    word1_total = 0\n",
    "    word2_total = 0\n",
    "\n",
    "    for char in word1:\n",
    "        word1_total += ord(char)\n",
    "\n",
    "    for char in word2:\n",
    "        word2_total += ord(char)\n",
    "\n",
    "    if word1_total > word2_total:\n",
    "        return word1\n",
    "    elif word1_total < word2_total:\n",
    "        return word2\n",
    "    else:\n",
    "        return word1, word2\n",
    "\n",
    "print(get_strong_word('delilah', 'dixon')) # delilah"
   ]
  },
  {
   "cell_type": "code",
   "execution_count": null,
   "id": "6f145952",
   "metadata": {},
   "outputs": [],
   "source": []
  }
 ],
 "metadata": {
  "kernelspec": {
   "display_name": "Python 3.9.13 64-bit",
   "language": "python",
   "name": "python3"
  },
  "language_info": {
   "codemirror_mode": {
    "name": "ipython",
    "version": 3
   },
   "file_extension": ".py",
   "mimetype": "text/x-python",
   "name": "python",
   "nbconvert_exporter": "python",
   "pygments_lexer": "ipython3",
   "version": "3.9.13"
  },
  "vscode": {
   "interpreter": {
    "hash": "c4b9ebf4ca459396e2ad1150752490c26670c1a037c08cad955a4425787bec2e"
   }
  }
 },
 "nbformat": 4,
 "nbformat_minor": 5
}
