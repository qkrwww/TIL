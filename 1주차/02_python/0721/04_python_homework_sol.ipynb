{
 "cells": [
  {
   "cell_type": "markdown",
   "id": "0a102c0b",
   "metadata": {},
   "source": [
    "#  Python 04. 함수 심화"
   ]
  },
  {
   "cell_type": "markdown",
   "id": "de736a55",
   "metadata": {},
   "source": [
    "## 1. 위치 인자와 키워드 인자\n",
    "다음과 같이 함수가 선언되어 있을 때, 보기 (1)~(4) 중에서 실행 시\n",
    "오류가 발생하는 코드를 고르시오.\n"
   ]
  },
  {
   "cell_type": "markdown",
   "id": "ec89cfde",
   "metadata": {},
   "source": [
    "<img src=\".\\images\\image1.png\" width='400' height='200'/>"
   ]
  },
  {
   "cell_type": "code",
   "execution_count": 1,
   "id": "e2c85a35",
   "metadata": {},
   "outputs": [],
   "source": [
    "# 정답\n",
    "# ssafy(name='승호', '광주') \n",
    "# 키워드 인자 뒤어 위치 인자를 활용할 수 없으므로"
   ]
  },
  {
   "cell_type": "markdown",
   "id": "b98c8dbf",
   "metadata": {},
   "source": [
    "## 2. 가변 인자 리스트\n",
    "가변 인자 리스트를 사용하여, 개수가 정해지지 않은 여러 정수들을 전달 받아\n",
    "해당 정수들의 평균 값을 반환하는 my_avg 함수를 작성하시오"
   ]
  },
  {
   "cell_type": "code",
   "execution_count": 3,
   "id": "1996b6ed",
   "metadata": {},
   "outputs": [
    {
     "name": "stdout",
     "output_type": "stream",
     "text": [
      "enter num: 3 5 7\n"
     ]
    },
    {
     "data": {
      "text/plain": [
       "15.0"
      ]
     },
     "execution_count": 3,
     "metadata": {},
     "output_type": "execute_result"
    }
   ],
   "source": [
    "def my_avg(*args):\n",
    "    # print(\"args- \", args)\n",
    "    total = 0\n",
    "    for each in args[0]:\n",
    "        total = total + each\n",
    "    #print(total)\n",
    "    return total/ len(args)\n",
    "\n",
    "\n",
    "num = list(map(int, input(\"enter num: \").split()))\n",
    "my_avg(num)\n"
   ]
  },
  {
   "cell_type": "markdown",
   "id": "dd8b1924",
   "metadata": {},
   "source": [
    "## 3. 반환값\n",
    "다음과 같이 함수를 선언하고 호출하였을 때, 변수 result에 저장된 값과\n",
    "그 값이 나온 이유를 작성하시오"
   ]
  },
  {
   "attachments": {},
   "cell_type": "markdown",
   "id": "fabcb85b",
   "metadata": {},
   "source": [
    "<img src=\".\\images\\image2.png\" width='400' height='100'/>"
   ]
  },
  {
   "cell_type": "code",
   "execution_count": null,
   "id": "838760f9",
   "metadata": {},
   "outputs": [],
   "source": [
    "# 답\n",
    "# None\n",
    "#함수에서 반환하는 값이 으면 `None`을 리턴한다.\n",
    "#`my_func` 는 반환하는 값이 없어서 result에 None이 저장된다."
   ]
  },
  {
   "cell_type": "markdown",
   "id": "9e7853b2",
   "metadata": {},
   "source": [
    "## 4. 이름 공간(Namespace)\n",
    "Python에서 변수를 찾을 때 접근하는 이름 공간을 순서대로 작성하시오"
   ]
  },
  {
   "cell_type": "markdown",
   "id": "039afe95",
   "metadata": {},
   "source": [
    "    1. Local scope  \n",
    "    2. Enclosed scope \n",
    "    3. Global scope \n",
    "    4. Built-in scope\n",
    "\n"
   ]
  },
  {
   "cell_type": "markdown",
   "id": "44a5c05d",
   "metadata": {},
   "source": [
    "## 5. 매개변수와 인자, 그리고 반환\n",
    "아래의 보기 (1) ~ (4) 중에서, 옳지 않은 것을 고르시오"
   ]
  },
  {
   "cell_type": "markdown",
   "id": "64595a8a",
   "metadata": {},
   "source": [
    "<img src=\".\\images\\image3.png\" width='400' height='200'/>"
   ]
  },
  {
   "cell_type": "markdown",
   "id": "5c041b90",
   "metadata": {},
   "source": [
    "## 6. 재귀 함수\n",
    "재귀 함수를 사용했을 때 얻을 수 있는 장점과 단점을 반복문과 비교하여 작성하시오"
   ]
  },
  {
   "cell_type": "markdown",
   "id": "729f3e90",
   "metadata": {},
   "source": [
    "   * 자기 자신을 호출하는 재귀함수는 알고리즘 구현시 많이 사용된다. \n",
    "   * 코드가 더 직관적이고 이해하기 쉬운 경우가 있음. (하지만, 만들기는 어려움) \n",
    "   * Python Tutor에 보면, 함수가 호출될 때마다 메모리 공간에 쌓이는 것을 볼 수 있다. \n",
    "   * 이 경우, 메모리 스택이 넘치거나(Stack overflow) 프로그램 실행 속도가 늘어지는 단점이 생긴다. \n",
    "   * 파이썬에서는 이를 방지하기 위해 1,000번이 넘어가게 되면 더이상 함수를 호출하지 않고, 종료된다.\n",
    "\n"
   ]
  },
  {
   "cell_type": "code",
   "execution_count": null,
   "id": "2e57ef37",
   "metadata": {},
   "outputs": [],
   "source": []
  }
 ],
 "metadata": {
  "kernelspec": {
   "display_name": "Python 3 (ipykernel)",
   "language": "python",
   "name": "python3"
  },
  "language_info": {
   "codemirror_mode": {
    "name": "ipython",
    "version": 3
   },
   "file_extension": ".py",
   "mimetype": "text/x-python",
   "name": "python",
   "nbconvert_exporter": "python",
   "pygments_lexer": "ipython3",
   "version": "3.9.13"
  }
 },
 "nbformat": 4,
 "nbformat_minor": 5
}
