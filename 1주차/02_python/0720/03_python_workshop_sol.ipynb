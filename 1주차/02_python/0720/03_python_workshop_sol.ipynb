{
 "cells": [
  {
   "cell_type": "markdown",
   "id": "0b279287",
   "metadata": {},
   "source": [
    "# Python 03. 제어문"
   ]
  },
  {
   "cell_type": "markdown",
   "id": "3edbede0",
   "metadata": {},
   "source": [
    "## 1. 세로로 출력하기\n",
    "자연수 number를 입력 받아, 1부터 number까지의 수를 세로로 한줄씩 출력하시오"
   ]
  },
  {
   "cell_type": "code",
   "execution_count": 2,
   "id": "aceab7c5",
   "metadata": {},
   "outputs": [
    {
     "name": "stdout",
     "output_type": "stream",
     "text": [
      "자연수를 입력하세요: 5\n",
      "1\n",
      "2\n",
      "3\n",
      "4\n",
      "5\n"
     ]
    }
   ],
   "source": [
    "num = int(input(\"자연수를 입력하세요: \"))\n",
    "for i in range(1, num + 1):\n",
    "    print(i)"
   ]
  },
  {
   "cell_type": "markdown",
   "id": "29bf0d83",
   "metadata": {},
   "source": [
    "## 2. 가로로 출력하기\n",
    "자연수 number를 입력 받아, 1부터 number까지의 수를 가로로 한칸씩 띄어 출력하시오"
   ]
  },
  {
   "cell_type": "code",
   "execution_count": 5,
   "id": "01fabb48",
   "metadata": {},
   "outputs": [
    {
     "data": {
      "text/plain": [
       "(20, 40)"
      ]
     },
     "execution_count": 5,
     "metadata": {},
     "output_type": "execute_result"
    }
   ],
   "source": [
    "## 함수의 매개변수 기본값\n",
    "def double_number(x, y=1):\n",
    "    return x * 2, y * 2\n",
    "\n",
    "double_number(10, 20)"
   ]
  },
  {
   "cell_type": "code",
   "execution_count": 6,
   "id": "091f0ee4",
   "metadata": {},
   "outputs": [
    {
     "name": "stdout",
     "output_type": "stream",
     "text": [
      "10\n",
      "1 2 3 4 5 6 7 8 9 10 "
     ]
    }
   ],
   "source": [
    "num = int(input())\n",
    "\n",
    "for i in range(1, num + 1):\n",
    "    print(i, end=' ')"
   ]
  },
  {
   "cell_type": "markdown",
   "id": "df121978",
   "metadata": {},
   "source": [
    "## 3. 거꾸로 세로로 출력하기\n",
    "자연수 number를 입력 받아, number부터 0까지의 수를 세로로 한줄씩 출력하시오"
   ]
  },
  {
   "cell_type": "code",
   "execution_count": 8,
   "id": "b82cb720",
   "metadata": {},
   "outputs": [
    {
     "name": "stdout",
     "output_type": "stream",
     "text": [
      "5\n",
      "5\n",
      "4\n",
      "3\n",
      "2\n",
      "1\n",
      "0\n"
     ]
    }
   ],
   "source": [
    "num = int(input())\n",
    "\n",
    "for i in range(num, -1, -1):\n",
    "    print(i)"
   ]
  },
  {
   "cell_type": "markdown",
   "id": "7d9dd0e2",
   "metadata": {},
   "source": [
    "## 4. 거꾸로 출력해 보아요 (SWEA #1545)\n",
    "자연수 number를 입력 받아, number부터 0까지의 수를 가로로 한칸씩 띄어 출력하"
   ]
  },
  {
   "cell_type": "code",
   "execution_count": 9,
   "id": "8b0dcb5f",
   "metadata": {},
   "outputs": [
    {
     "name": "stdout",
     "output_type": "stream",
     "text": [
      "5\n",
      "5 4 3 2 1 0 "
     ]
    }
   ],
   "source": [
    "num = int(input())\n",
    "\n",
    "for i in range(num, -1, -1):\n",
    "    print(i, end=' ')"
   ]
  },
  {
   "cell_type": "markdown",
   "id": "b9505273",
   "metadata": {},
   "source": [
    "## 5. N줄 덧셈 (SWEA #2025)\n",
    "입력으로 자연수 number가 주어질 때, 1부터 주어진 자연수 number까지를 모두 더한\n",
    "값을 출력하시오. 단, 주어지는 숫자는 10000을 넘지 않는다. 예를 들어, 주어진 숫자가\n",
    "10일 경우 1 + 2 + 3 + 4 + 5 + 6 + 7 + 8 + 9 + 10 = 55이므로, 출력해야 할 값은 55이다\n"
   ]
  },
  {
   "cell_type": "code",
   "execution_count": 12,
   "id": "f6ce89b9",
   "metadata": {},
   "outputs": [],
   "source": [
    "# sum(range(11)) 함수를 사용하지 않고 For 반복문을 사용하여 작성해보세요. "
   ]
  },
  {
   "cell_type": "code",
   "execution_count": 13,
   "id": "f83ee3d0",
   "metadata": {},
   "outputs": [
    {
     "name": "stdout",
     "output_type": "stream",
     "text": [
      "5\n",
      "15\n"
     ]
    }
   ],
   "source": [
    "number = int(input())\n",
    "\n",
    "total = 0\n",
    "for i in range(1, number+1):\n",
    "    total += i\n",
    "\n",
    "print(total)"
   ]
  },
  {
   "cell_type": "markdown",
   "id": "686faa67",
   "metadata": {},
   "source": [
    "## 6. 삼각형 출력하기\n",
    "자연수 number를 입력받아, 아래와 같이 높이가 number인 삼각형을 출력하시오.\n"
   ]
  },
  {
   "cell_type": "code",
   "execution_count": 14,
   "id": "4a3555e9",
   "metadata": {},
   "outputs": [
    {
     "name": "stdout",
     "output_type": "stream",
     "text": [
      "3\n",
      "   *\n",
      "  **\n",
      " ***\n"
     ]
    }
   ],
   "source": [
    "# 3 \n",
    "N = int(input())\n",
    "\n",
    "for i in range(1, N+1):\n",
    "    for j in range(N-i, -1, -1):\n",
    "        print(' ', end='')\n",
    "    print('*'*i)"
   ]
  },
  {
   "cell_type": "markdown",
   "id": "14ae0c4e",
   "metadata": {},
   "source": [
    "## 7. 중간값 찾기 (SWEA #2063 변형)\n",
    "중간값은 통계 집단의 수치를 크기 순으로 배열 했을 때 전체의 중앙에 위치하는 수치를\n",
    "뜻한다. 리스트 numbers에 입력된 숫자에서 중간값을 출력하라."
   ]
  },
  {
   "cell_type": "code",
   "execution_count": 15,
   "id": "9767f60f",
   "metadata": {},
   "outputs": [
    {
     "name": "stdout",
     "output_type": "stream",
     "text": [
      "64\n"
     ]
    }
   ],
   "source": [
    "numbers = [\n",
    "    85, 72, 38, 80, 69, 65, 68, 96, 22, 49, 67,\n",
    "    51, 61, 63, 87, 66, 24, 80, 83, 71, 60, 64,\n",
    "    52, 90, 60, 49, 31, 23, 99, 94, 11, 25, 24,\n",
    "]\n",
    "\n",
    "length = 0\n",
    "for _ in numbers:\n",
    "    length += 1\n",
    "\n",
    "center_index = length // 2\n",
    "sorted_nums = sorted(numbers)\n",
    "print(sorted_nums[center_index])"
   ]
  },
  {
   "cell_type": "code",
   "execution_count": null,
   "id": "82505e88",
   "metadata": {},
   "outputs": [],
   "source": []
  }
 ],
 "metadata": {
  "kernelspec": {
   "display_name": "Python 3",
   "language": "python",
   "name": "python3"
  },
  "language_info": {
   "codemirror_mode": {
    "name": "ipython",
    "version": 3
   },
   "file_extension": ".py",
   "mimetype": "text/x-python",
   "name": "python",
   "nbconvert_exporter": "python",
   "pygments_lexer": "ipython3",
   "version": "3.8.8"
  }
 },
 "nbformat": 4,
 "nbformat_minor": 5
}
