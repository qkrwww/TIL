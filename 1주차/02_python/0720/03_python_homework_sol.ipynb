{
 "cells": [
  {
   "cell_type": "markdown",
   "id": "d3d82166",
   "metadata": {},
   "source": [
    "# 1. Built-in 함수\n",
    "Python에서 기본으로 사용할 수 있는 built-in 함수를 최소 5가지 이상 작성하시오."
   ]
  },
  {
   "cell_type": "code",
   "execution_count": 1,
   "id": "cfebd448",
   "metadata": {
    "collapsed": true
   },
   "outputs": [
    {
     "ename": "TypeError",
     "evalue": "abs() takes exactly one argument (0 given)",
     "output_type": "error",
     "traceback": [
      "\u001b[1;31m---------------------------------------------------------------------------\u001b[0m",
      "\u001b[1;31mTypeError\u001b[0m                                 Traceback (most recent call last)",
      "\u001b[1;32m<ipython-input-1-e0be0fdae843>\u001b[0m in \u001b[0;36m<module>\u001b[1;34m\u001b[0m\n\u001b[1;32m----> 1\u001b[1;33m \u001b[0mabs\u001b[0m\u001b[1;33m(\u001b[0m\u001b[1;33m)\u001b[0m\u001b[1;33m\u001b[0m\u001b[1;33m\u001b[0m\u001b[0m\n\u001b[0m\u001b[0;32m      2\u001b[0m \u001b[0mall\u001b[0m\u001b[1;33m(\u001b[0m\u001b[1;33m)\u001b[0m\u001b[1;33m\u001b[0m\u001b[1;33m\u001b[0m\u001b[0m\n\u001b[0;32m      3\u001b[0m \u001b[0many\u001b[0m\u001b[1;33m(\u001b[0m\u001b[1;33m)\u001b[0m\u001b[1;33m\u001b[0m\u001b[1;33m\u001b[0m\u001b[0m\n\u001b[0;32m      4\u001b[0m \u001b[0mascii\u001b[0m\u001b[1;33m(\u001b[0m\u001b[1;33m)\u001b[0m\u001b[1;33m\u001b[0m\u001b[1;33m\u001b[0m\u001b[0m\n\u001b[0;32m      5\u001b[0m \u001b[0mbool\u001b[0m\u001b[1;33m(\u001b[0m\u001b[1;33m)\u001b[0m\u001b[1;33m\u001b[0m\u001b[1;33m\u001b[0m\u001b[0m\n",
      "\u001b[1;31mTypeError\u001b[0m: abs() takes exactly one argument (0 given)"
     ]
    }
   ],
   "source": [
    "abs()\n",
    "all()\n",
    "any()\n",
    "ascii()\n",
    "bool()\n",
    "bytes()"
   ]
  },
  {
   "cell_type": "markdown",
   "id": "d4896d53",
   "metadata": {},
   "source": [
    "## 2. 홀수만 담기\n",
    "range와 slicing을 활용하여 1부터 50까지의 숫자 중,\n",
    "홀수로만 이루어진 리스트를 만드시오"
   ]
  },
  {
   "cell_type": "code",
   "execution_count": 2,
   "id": "62fcda2d",
   "metadata": {},
   "outputs": [
    {
     "name": "stdout",
     "output_type": "stream",
     "text": [
      "[1, 3, 5, 7, 9, 11, 13, 15, 17, 19, 21, 23, 25, 27, 29, 31, 33, 35, 37, 39, 41, 43, 45, 47, 49]\n",
      "[1, 3, 5, 7, 9, 11, 13, 15, 17, 19, 21, 23, 25, 27, 29, 31, 33, 35, 37, 39, 41, 43, 45, 47, 49]\n"
     ]
    }
   ],
   "source": [
    "a = list(range(1, 51))\n",
    "b = a[0:-1:2]\n",
    "print(b)\n",
    "b = a[::2]\n",
    "# print(a)\n",
    "print(b)"
   ]
  },
  {
   "cell_type": "markdown",
   "id": "01ccaa53",
   "metadata": {},
   "source": [
    "## 3. 반복문으로 네모 출력\n",
    "두 개의 정수 n과 m이 주어졌을 때, 가로의 길이가 n, 세로의 길이가 m인 직사각형 형태를\n",
    "별(*) 문자를 이용하여 출력하시오. 단, 반복문을 사용하여 작성하시오.\n",
    "n = 5\n",
    "m = 9\n"
   ]
  },
  {
   "cell_type": "code",
   "execution_count": 4,
   "id": "7078a0c0",
   "metadata": {},
   "outputs": [
    {
     "name": "stdout",
     "output_type": "stream",
     "text": [
      "***\n",
      "***\n",
      "***\n",
      "***\n",
      "***\n"
     ]
    }
   ],
   "source": [
    "# n=3, m=5라 가정할 때\n",
    "n = 3\n",
    "m = 5\n",
    "for height in range(m):\n",
    "    for width in range(n):\n",
    "        print('*', end='')\n",
    "    print()"
   ]
  },
  {
   "cell_type": "markdown",
   "id": "8d662189",
   "metadata": {},
   "source": [
    "## 4. 조건 표현식\n",
    "주어진 코드의 조건문을 조건 표현식으로 바꾸어 작성하시오."
   ]
  },
  {
   "cell_type": "code",
   "execution_count": 5,
   "id": "13fa34eb",
   "metadata": {},
   "outputs": [
    {
     "name": "stdout",
     "output_type": "stream",
     "text": [
      "입실 가능\n"
     ]
    }
   ],
   "source": [
    "temp = 36.5\n",
    "print('입실 불가') if temp >= 37.5 else print('입실 가능')"
   ]
  },
  {
   "cell_type": "markdown",
   "id": "45ed8462",
   "metadata": {},
   "source": [
    "## 5. 정중앙 문자\n",
    "문자열을 전달 받아 해당 문자열의 정중앙 문자를 반환하는 get_middle_char 함수를\n",
    "작성하시오. 단, 문자열의 길이가 짝수일 경우에는 정중앙 문자 2개를 반환한다"
   ]
  },
  {
   "cell_type": "code",
   "execution_count": 9,
   "id": "d3414f53",
   "metadata": {},
   "outputs": [],
   "source": [
    "def get_middle_char(word):\n",
    "    num = len(word) // 2\n",
    "\n",
    "    if len(word) % 2:\n",
    "        middle = word[num]\n",
    "    else:\n",
    "        middle = word[num-1:num+1]\n",
    "    \n",
    "    return middle"
   ]
  },
  {
   "cell_type": "code",
   "execution_count": 11,
   "id": "0f90c477",
   "metadata": {},
   "outputs": [
    {
     "data": {
      "text/plain": [
       "'a'"
      ]
     },
     "execution_count": 11,
     "metadata": {},
     "output_type": "execute_result"
    }
   ],
   "source": [
    "get_middle_char('ssafy') #=> a\n"
   ]
  },
  {
   "cell_type": "code",
   "execution_count": 12,
   "id": "818f4f60",
   "metadata": {},
   "outputs": [
    {
     "data": {
      "text/plain": [
       "'di'"
      ]
     },
     "execution_count": 12,
     "metadata": {},
     "output_type": "execute_result"
    }
   ],
   "source": [
    "get_middle_char('coding') #=> di"
   ]
  },
  {
   "cell_type": "code",
   "execution_count": null,
   "id": "bfc87e60",
   "metadata": {},
   "outputs": [],
   "source": []
  }
 ],
 "metadata": {
  "kernelspec": {
   "display_name": "Python 3 (ipykernel)",
   "language": "python",
   "name": "python3"
  },
  "language_info": {
   "codemirror_mode": {
    "name": "ipython",
    "version": 3
   },
   "file_extension": ".py",
   "mimetype": "text/x-python",
   "name": "python",
   "nbconvert_exporter": "python",
   "pygments_lexer": "ipython3",
   "version": "3.9.13"
  }
 },
 "nbformat": 4,
 "nbformat_minor": 5
}
