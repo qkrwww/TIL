{
 "cells": [
  {
   "cell_type": "markdown",
   "id": "2613101d",
   "metadata": {},
   "source": [
    "# Python 02. 데이터 타입 및 형 변환\n"
   ]
  },
  {
   "cell_type": "markdown",
   "id": "bb50f4b4",
   "metadata": {},
   "source": [
    "## 1. 숫자의 입력과 출력\n",
    "입력 받은 데이터를 숫자로 변환하고 덧셈해서 출력하는 프로그램을 작성하시오.\n",
    "(힌트 : input() 함수를 활용하여 데이터를 입력받을 수 있다.)"
   ]
  },
  {
   "cell_type": "code",
   "execution_count": null,
   "id": "c77b2ebd",
   "metadata": {},
   "outputs": [],
   "source": []
  },
  {
   "cell_type": "markdown",
   "id": "fd6c30a8",
   "metadata": {},
   "source": [
    "## 2. Dictionary를 활용하여 평균 구하기\n",
    "좋아하는 점심메뉴를 이용하여 key는 메뉴, value는 가격인 dictionary를 만들고,\n",
    "점심메뉴의 평균 값을 출력하시오"
   ]
  },
  {
   "cell_type": "code",
   "execution_count": null,
   "id": "a1060846",
   "metadata": {},
   "outputs": [],
   "source": []
  },
  {
   "cell_type": "code",
   "execution_count": null,
   "id": "da8754d6",
   "metadata": {},
   "outputs": [],
   "source": []
  },
  {
   "cell_type": "code",
   "execution_count": null,
   "id": "4e383529",
   "metadata": {},
   "outputs": [],
   "source": []
  },
  {
   "cell_type": "code",
   "execution_count": null,
   "id": "a1564b2e",
   "metadata": {},
   "outputs": [],
   "source": []
  },
  {
   "cell_type": "code",
   "execution_count": null,
   "id": "1c352309",
   "metadata": {},
   "outputs": [],
   "source": []
  },
  {
   "cell_type": "code",
   "execution_count": null,
   "id": "ed65e3db",
   "metadata": {},
   "outputs": [],
   "source": []
  }
 ],
 "metadata": {
  "kernelspec": {
   "display_name": "Python 3 (ipykernel)",
   "language": "python",
   "name": "python3"
  },
  "language_info": {
   "codemirror_mode": {
    "name": "ipython",
    "version": 3
   },
   "file_extension": ".py",
   "mimetype": "text/x-python",
   "name": "python",
   "nbconvert_exporter": "python",
   "pygments_lexer": "ipython3",
   "version": "3.9.13"
  }
 },
 "nbformat": 4,
 "nbformat_minor": 5
}
