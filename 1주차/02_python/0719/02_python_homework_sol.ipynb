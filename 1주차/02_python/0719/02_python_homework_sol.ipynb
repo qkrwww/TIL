{
 "cells": [
  {
   "cell_type": "markdown",
   "id": "49203006",
   "metadata": {},
   "source": [
    "# Python 02. 기초문법과 데이터 타입 및 형 변환\n"
   ]
  },
  {
   "cell_type": "markdown",
   "id": "f767757a",
   "metadata": {},
   "source": [
    "## 1. Mutable & Immutable\n",
    "주어진 컨테이너들을 각각 변경 가능한 것(mutable)과\n",
    "변경 불가능한 것(immutable)으로 분류하시오.\n",
    "String, List, Tuple, Range, Set, Dic"
   ]
  },
  {
   "cell_type": "code",
   "execution_count": null,
   "id": "b590f0b5",
   "metadata": {},
   "outputs": [],
   "source": []
  },
  {
   "cell_type": "markdown",
   "id": "43a28261",
   "metadata": {},
   "source": [
    "## 2. Dictionary 만들기\n",
    "반 학생들의 정보를 이용하여 key는 이름, value는 나이인 dictionary를 만드시오.\n",
    "내 자리를 기준으로 앞, 뒤, 좌, 우에 앉아 있는 학생의 정보를 참고하시오"
   ]
  },
  {
   "cell_type": "code",
   "execution_count": null,
   "id": "fddcf28b",
   "metadata": {},
   "outputs": [],
   "source": []
  },
  {
   "cell_type": "markdown",
   "id": "ee519b1e",
   "metadata": {},
   "source": [
    "## 3. 평균 구하기\n",
    "주어진 list에 담긴 숫자들의 평균값을 출력하시오.\n",
    "\n",
    "scores = [80, 89, 99, 83] # => 87.7"
   ]
  },
  {
   "cell_type": "code",
   "execution_count": null,
   "id": "5f16c4f0",
   "metadata": {},
   "outputs": [],
   "source": []
  },
  {
   "cell_type": "code",
   "execution_count": null,
   "id": "59ef0f4a",
   "metadata": {},
   "outputs": [],
   "source": []
  },
  {
   "cell_type": "code",
   "execution_count": null,
   "id": "2479e3ef",
   "metadata": {},
   "outputs": [],
   "source": []
  },
  {
   "cell_type": "code",
   "execution_count": null,
   "id": "08d909b3",
   "metadata": {},
   "outputs": [],
   "source": []
  },
  {
   "cell_type": "code",
   "execution_count": null,
   "id": "22aac39f",
   "metadata": {},
   "outputs": [],
   "source": []
  },
  {
   "cell_type": "code",
   "execution_count": null,
   "id": "6512eea0",
   "metadata": {},
   "outputs": [],
   "source": []
  },
  {
   "cell_type": "code",
   "execution_count": null,
   "id": "fb30911f",
   "metadata": {},
   "outputs": [],
   "source": []
  },
  {
   "cell_type": "code",
   "execution_count": null,
   "id": "f1a54512",
   "metadata": {},
   "outputs": [],
   "source": []
  }
 ],
 "metadata": {
  "kernelspec": {
   "display_name": "Python 3 (ipykernel)",
   "language": "python",
   "name": "python3"
  },
  "language_info": {
   "codemirror_mode": {
    "name": "ipython",
    "version": 3
   },
   "file_extension": ".py",
   "mimetype": "text/x-python",
   "name": "python",
   "nbconvert_exporter": "python",
   "pygments_lexer": "ipython3",
   "version": "3.9.13"
  }
 },
 "nbformat": 4,
 "nbformat_minor": 5
}
